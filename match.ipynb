{
 "cells": [
  {
   "cell_type": "markdown",
   "metadata": {},
   "source": [
    "该模块用于将预测后的DDG与数据集中原本的EXP_DDG根据文件名称相匹配，并以匹配后的结果计算相关的Spearman 相关系数，Pearson 相关系数以及RMSE（均方根误差）。"
   ]
  },
  {
   "cell_type": "code",
   "execution_count": null,
   "metadata": {},
   "outputs": [],
   "source": [
    "import pandas as pd\n",
    "from scipy.stats import spearmanr, pearsonr\n",
    "from sklearn.metrics import mean_squared_error\n",
    "import numpy as np\n",
    "\n",
    "#  读取 CSV 文件\n",
    "file_path = \"ddg_predictions.csv\"  # 确保路径正确\n",
    "df = pd.read_csv(file_path)\n",
    "\n",
    "#  确保 CSV 包含 `EXP_DDG` 和 `predicted_ddG` 列\n",
    "if \"EXP_DDG\" not in df.columns or \"predicted_ddG\" not in df.columns:\n",
    "    raise ValueError(\"CSV 文件缺少 'EXP_DDG' 或 'predicted_ddG' 列\")\n",
    "\n",
    "#  计算 Spearman、Pearson 相关性\n",
    "spearman_corr, spearman_p = spearmanr(df[\"EXP_DDG\"], df[\"predicted_ddG\"])\n",
    "pearson_corr, pearson_p = pearsonr(df[\"EXP_DDG\"], df[\"predicted_ddG\"])\n",
    "\n",
    "#  计算 RMSE\n",
    "rmse = np.sqrt(mean_squared_error(df[\"EXP_DDG\"], df[\"predicted_ddG\"]))\n",
    "\n",
    "#  输出结果\n",
    "print(f\" Spearman 相关系数: {spearman_corr:.4f}，p 值: {spearman_p:.4e}\")\n",
    "print(f\" Pearson 相关系数: {pearson_corr:.4f}，p 值: {pearson_p:.4e}\")\n",
    "print(f\" RMSE（均方根误差）: {rmse:.4f}\")\n"
   ]
  }
 ],
 "metadata": {
  "language_info": {
   "name": "python"
  }
 },
 "nbformat": 4,
 "nbformat_minor": 2
}
